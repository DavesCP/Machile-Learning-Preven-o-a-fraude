{
  "nbformat": 4,
  "nbformat_minor": 0,
  "metadata": {
    "colab": {
      "name": "Machine learning Identificação de fraude.ipynb",
      "provenance": [],
      "collapsed_sections": [],
      "authorship_tag": "ABX9TyM2kjfdO/SNGuMD9yzTN5jA",
      "include_colab_link": true
    },
    "kernelspec": {
      "name": "python3",
      "display_name": "Python 3"
    },
    "language_info": {
      "name": "python"
    }
  },
  "cells": [
    {
      "cell_type": "markdown",
      "metadata": {
        "id": "view-in-github",
        "colab_type": "text"
      },
      "source": [
        "<a href=\"https://colab.research.google.com/github/DavesCP/Machile-Learning-Preven-o-a-fraude/blob/main/Machine_learning_Identifica%C3%A7%C3%A3o_de_fraude.ipynb\" target=\"_parent\"><img src=\"https://colab.research.google.com/assets/colab-badge.svg\" alt=\"Open In Colab\"/></a>"
      ]
    },
    {
      "cell_type": "code",
      "metadata": {
        "id": "YZT8VoVretJX"
      },
      "source": [
        "#Imports\n",
        "import numpy as np \n",
        "import itertools\n",
        "import pandas as pd\n",
        "import matplotlib.pyplot as plt\n",
        "from sklearn.tree import DecisionTreeClassifier, export_graphviz\n",
        "from sklearn.metrics import accuracy_score, classification_report, confusion_matrix\n",
        "from sklearn.model_selection import train_test_split\n",
        "from sklearn import tree\n",
        "from six import StringIO\n",
        "import pydotplus\n",
        "from IPython.display import Image "
      ],
      "execution_count": 25,
      "outputs": []
    },
    {
      "cell_type": "code",
      "metadata": {
        "id": "IJ6kNb_Bet3M"
      },
      "source": [
        "#Atribuindo os dados para o dataframe\n",
        "fraude_df = pd.read_csv('Fraud_Data.csv', header=0)"
      ],
      "execution_count": 5,
      "outputs": []
    },
    {
      "cell_type": "code",
      "metadata": {
        "colab": {
          "base_uri": "https://localhost:8080/"
        },
        "id": "HbtdOj0zet51",
        "outputId": "84f234a8-79a1-4f14-eb1d-289fb05e9e7d"
      },
      "source": [
        "#Entendendo o dataset\n",
        "print(fraude_df.head(5))\n",
        "count_row = fraude_df.shape[0]  #Numero de registros\n",
        "count_col = fraude_df.shape[1]  #numero de colunas\n",
        "print(count_row)\n",
        "print(count_col)"
      ],
      "execution_count": 7,
      "outputs": [
        {
          "output_type": "stream",
          "name": "stdout",
          "text": [
            "       id             cadastro  ...            ip  fraude\n",
            "0   22058  2015-02-24 22:55:49  ...  7.327584e+08       0\n",
            "1  333320  2015-06-07 20:39:50  ...  3.503114e+08       0\n",
            "2    1359  2015-01-01 18:52:44  ...  2.621474e+09       1\n",
            "3  150084  2015-04-28 21:13:25  ...  3.840542e+09       0\n",
            "4  221365  2015-07-21 07:09:52  ...  4.155831e+08       0\n",
            "\n",
            "[5 rows x 11 columns]\n",
            "151112\n",
            "11\n"
          ]
        }
      ]
    },
    {
      "cell_type": "code",
      "metadata": {
        "colab": {
          "base_uri": "https://localhost:8080/"
        },
        "id": "cpXvAAzret8Z",
        "outputId": "b946a942-2255-4c5a-80c4-16097cabeb9a"
      },
      "source": [
        "#Remover registros que tenham algum campo em branco para evitar ruídos no modelo\n",
        "df = fraude_df.dropna()\n",
        "print(fraude_df.head(5))"
      ],
      "execution_count": 9,
      "outputs": [
        {
          "output_type": "stream",
          "name": "stdout",
          "text": [
            "       id             cadastro  ...            ip  fraude\n",
            "0   22058  2015-02-24 22:55:49  ...  7.327584e+08       0\n",
            "1  333320  2015-06-07 20:39:50  ...  3.503114e+08       0\n",
            "2    1359  2015-01-01 18:52:44  ...  2.621474e+09       1\n",
            "3  150084  2015-04-28 21:13:25  ...  3.840542e+09       0\n",
            "4  221365  2015-07-21 07:09:52  ...  4.155831e+08       0\n",
            "\n",
            "[5 rows x 11 columns]\n"
          ]
        }
      ]
    },
    {
      "cell_type": "code",
      "metadata": {
        "colab": {
          "base_uri": "https://localhost:8080/"
        },
        "id": "Q84oJ7Ysfnwt",
        "outputId": "6c958954-55fd-4d96-b62d-21941b8a0009"
      },
      "source": [
        "print('Quantidade de campos(colunas): ', fraude_df.shape[1])\n",
        "print('Total de registros:', fraude_df.shape[0])"
      ],
      "execution_count": 10,
      "outputs": [
        {
          "output_type": "stream",
          "name": "stdout",
          "text": [
            "Quantidade de campos(colunas):  11\n",
            "Total de registros: 151112\n"
          ]
        }
      ]
    },
    {
      "cell_type": "code",
      "metadata": {
        "colab": {
          "base_uri": "https://localhost:8080/"
        },
        "id": "Yx0hBdXefnzb",
        "outputId": "e174e532-8713-4f1f-9d7e-95c4686ef151"
      },
      "source": [
        "#Definindo o label\n",
        "Y = fraude_df['fraude'].values \n",
        "print(Y)"
      ],
      "execution_count": 11,
      "outputs": [
        {
          "output_type": "stream",
          "name": "stdout",
          "text": [
            "[0 0 1 ... 0 0 0]\n"
          ]
        }
      ]
    },
    {
      "cell_type": "code",
      "metadata": {
        "colab": {
          "base_uri": "https://localhost:8080/"
        },
        "id": "B8EZek4wfn2D",
        "outputId": "db3141ab-c9c7-4e7b-bf84-df40e6a15da4"
      },
      "source": [
        "print(fraude_df.describe())"
      ],
      "execution_count": 12,
      "outputs": [
        {
          "output_type": "stream",
          "name": "stdout",
          "text": [
            "                  id          valor          idade            ip         fraude\n",
            "count  151112.000000  151112.000000  151112.000000  1.511120e+05  151112.000000\n",
            "mean   200171.040970      36.935372      33.140704  2.152145e+09       0.093646\n",
            "std    115369.285024      18.322762       8.617733  1.248497e+09       0.291336\n",
            "min         2.000000       9.000000      18.000000  5.209350e+04       0.000000\n",
            "25%    100642.500000      22.000000      27.000000  1.085934e+09       0.000000\n",
            "50%    199958.000000      35.000000      33.000000  2.154770e+09       0.000000\n",
            "75%    300054.000000      49.000000      39.000000  3.243258e+09       0.000000\n",
            "max    400000.000000     154.000000      76.000000  4.294850e+09       1.000000\n"
          ]
        }
      ]
    },
    {
      "cell_type": "code",
      "metadata": {
        "colab": {
          "base_uri": "https://localhost:8080/"
        },
        "id": "C1UJYpPmfn4r",
        "outputId": "3bb01628-9e9a-43b7-e259-d04630455ec9"
      },
      "source": [
        "#Atribuição das features\n",
        "X = fraude_df[['valor', 'idade']].values\n",
        "print(X)"
      ],
      "execution_count": 13,
      "outputs": [
        {
          "output_type": "stream",
          "name": "stdout",
          "text": [
            "[[3.40000000e+01 3.90000000e+01 7.32758369e+08]\n",
            " [1.60000000e+01 5.30000000e+01 3.50311388e+08]\n",
            " [1.50000000e+01 5.30000000e+01 2.62147382e+09]\n",
            " ...\n",
            " [4.00000000e+01 2.60000000e+01 2.74847052e+09]\n",
            " [4.60000000e+01 3.70000000e+01 3.60117471e+09]\n",
            " [2.00000000e+01 3.80000000e+01 4.10382451e+09]]\n"
          ]
        }
      ]
    },
    {
      "cell_type": "code",
      "metadata": {
        "colab": {
          "base_uri": "https://localhost:8080/",
          "height": 69
        },
        "id": "eiWL3E8Efn6-",
        "outputId": "3c7a9c81-e201-4d8e-eb21-ec0b9d3f9e11"
      },
      "source": [
        "#Dividindo dataset de treino e de teste\n",
        "X_treino, X_teste, Y_treino, Y_teste = train_test_split(X, Y, test_size=0.2, random_state=3)"
      ],
      "execution_count": 14,
      "outputs": [
        {
          "output_type": "execute_result",
          "data": {
            "application/vnd.google.colaboratory.intrinsic+json": {
              "type": "string"
            },
            "text/plain": [
              "'Agora vamos criar o e treinar o nosso modelo. Lembram da diferença entre algortimo e modelo? Existe o algortimo de treinamento (que neste caso é o de árvore de decisão) que irá exportar um modelo treinado (que também é um algoritmo).'"
            ]
          },
          "metadata": {},
          "execution_count": 14
        }
      ]
    },
    {
      "cell_type": "code",
      "metadata": {
        "id": "weearVEdfn9c"
      },
      "source": [
        "#Criando algoritmo de árvore de decisão\n",
        "algortimo_arvore = DecisionTreeClassifier(criterion='entropy', max_depth=5)"
      ],
      "execution_count": 15,
      "outputs": []
    },
    {
      "cell_type": "code",
      "metadata": {
        "id": "2BH9r-8XfoAN"
      },
      "source": [
        "#Treinar modelo com os datasets de treino\n",
        "modelo = algortimo_arvore.fit(X_treino, Y_treino)"
      ],
      "execution_count": 16,
      "outputs": []
    },
    {
      "cell_type": "code",
      "metadata": {
        "colab": {
          "base_uri": "https://localhost:8080/"
        },
        "id": "3DpdHArofoC1",
        "outputId": "b27cc6e8-81f5-4b75-816a-4ed1377cbb36"
      },
      "source": [
        "#Mostrando as features mais importantes\n",
        "print (modelo.feature_importances_)"
      ],
      "execution_count": 17,
      "outputs": [
        {
          "output_type": "stream",
          "name": "stdout",
          "text": [
            "[0.21346373 0.24788011 0.53865617]\n"
          ]
        }
      ]
    },
    {
      "cell_type": "code",
      "metadata": {
        "colab": {
          "base_uri": "https://localhost:8080/"
        },
        "id": "or7mr6KVjfr1",
        "outputId": "22c2269d-71d9-4c21-a431-6f7b9c3d64d4"
      },
      "source": [
        "#Entendendo as features mais importantes\n",
        "importances = modelo.feature_importances_\n",
        "indices = np.argsort(importances)[::-1]\n",
        "print(\"Ranking das features:\", indices)"
      ],
      "execution_count": 30,
      "outputs": [
        {
          "output_type": "stream",
          "name": "stdout",
          "text": [
            "Feature ranking: [2 1 0]\n"
          ]
        }
      ]
    },
    {
      "cell_type": "code",
      "metadata": {
        "colab": {
          "base_uri": "https://localhost:8080/",
          "height": 631
        },
        "id": "Cku5RFCujft9",
        "outputId": "824326df-be42-48fa-fcac-b88eeb12b59e"
      },
      "source": [
        "for f in range(X.shape[1]):\n",
        "    print(\"%d. feature %d (%f)\" % (f + 1, indices[f], importances[indices[f]]))\n",
        "f, ax = plt.subplots(figsize=(11, 9))\n",
        "plt.title(\"Ranking das Features\", fontsize = 20)\n",
        "plt.bar(range(X.shape[1]), importances[indices],\n",
        "    color=\"b\", \n",
        "    align=\"center\")\n",
        "plt.xticks(range(X.shape[1]), indices)\n",
        "plt.xlim([-1, X.shape[1]])\n",
        "plt.ylabel(\"importância\", fontsize = 18)\n",
        "plt.xlabel(\"índice das features\", fontsize = 18)\n",
        "plt.show()"
      ],
      "execution_count": 36,
      "outputs": [
        {
          "output_type": "stream",
          "name": "stdout",
          "text": [
            "1. feature 2 (0.538656)\n",
            "2. feature 1 (0.247880)\n",
            "3. feature 0 (0.213464)\n"
          ]
        },
        {
          "output_type": "display_data",
          "data": {
            "image/png": "[encoded data removed]",
            "text/plain": [
              "<Figure size 792x648 with 1 Axes>"
            ]
          },
          "metadata": {
            "needs_background": "light"
          }
        }
      ]
    },
    {
      "cell_type": "code",
      "metadata": {
        "id": "hYpLt9B_jfwr"
      },
      "source": [
        "#Aplicando o modelo na base de testes e armazena o resultado \n",
        "Y_predicoes = modelo.predict(X_teste)"
      ],
      "execution_count": 32,
      "outputs": []
    },
    {
      "cell_type": "code",
      "metadata": {
        "colab": {
          "base_uri": "https://localhost:8080/"
        },
        "id": "zG0BfX3Mqkrr",
        "outputId": "ad652988-ce0a-44e3-93f1-7170b506ef6b"
      },
      "source": [
        "#Avaliação do modelo\n",
        "print(\"ACURÁCIA DO MODELO: \", accuracy_score(Y_teste, Y_predicoes))\n",
        "print (classification_report(Y_teste, Y_predicoes))"
      ],
      "execution_count": 34,
      "outputs": [
        {
          "output_type": "stream",
          "name": "stdout",
          "text": [
            "ACURÁCIA DO MODELO:  0.9049399463984382\n",
            "              precision    recall  f1-score   support\n",
            "\n",
            "           0       0.91      1.00      0.95     27340\n",
            "           1       0.73      0.01      0.01      2883\n",
            "\n",
            "    accuracy                           0.90     30223\n",
            "   macro avg       0.82      0.50      0.48     30223\n",
            "weighted avg       0.89      0.90      0.86     30223\n",
            "\n"
          ]
        }
      ]
    },
    {
      "cell_type": "code",
      "metadata": {
        "colab": {
          "base_uri": "https://localhost:8080/",
          "height": 363
        },
        "id": "8EBnbMjdqkuM",
        "outputId": "6ad3937a-26a8-4bc5-8c3e-ba67f4580550"
      },
      "source": [
        "#Montar matriz de confusão\n",
        "def plot_confusion_matrix(cm, classes,\n",
        "                          normalize=False,\n",
        "                          title='Confusion matrix',\n",
        "                          cmap=plt.cm.Blues):\n",
        "    \"\"\"\n",
        "    This function prints and plots the confusion matrix.\n",
        "    Normalization can be applied by setting `normalize=True`.\n",
        "    \"\"\"\n",
        "    plt.imshow(cm, interpolation='nearest', cmap=cmap)\n",
        "    plt.title(title)\n",
        "    plt.colorbar()\n",
        "    tick_marks = np.arange(len(classes))\n",
        "    plt.xticks(tick_marks, classes, rotation=45)\n",
        "    plt.yticks(tick_marks, classes)\n",
        "\n",
        "    if normalize:\n",
        "        cm = cm.astype('float') / cm.sum(axis=1)[:, np.newaxis]\n",
        "        print(\"Matriz de Confusão Normalizada\")\n",
        "    else:\n",
        "        print('Matriz de Confusão sem normalizacão ')\n",
        "\n",
        "    print(cm)\n",
        "\n",
        "    thresh = cm.max() / 2.\n",
        "    for i, j in itertools.product(range(cm.shape[0]), range(cm.shape[1])):\n",
        "        plt.text(j, i, cm[i, j],\n",
        "                 horizontalalignment=\"center\",\n",
        "                 color=\"white\" if cm[i, j] > thresh else \"black\")\n",
        "\n",
        "    plt.tight_layout()\n",
        "    plt.ylabel('Rótulo real')\n",
        "    plt.xlabel('Rótulo prevista')\n",
        "\n",
        "matrix_confusao = confusion_matrix(Y_teste, Y_predicoes)\n",
        "plt.figure()\n",
        "plot_confusion_matrix(matrix_confusao, classes=nome_classes,\n",
        "                      title='Matrix de Confusao')"
      ],
      "execution_count": 35,
      "outputs": [
        {
          "output_type": "stream",
          "name": "stdout",
          "text": [
            "Matriz de Confusão sem normalizacão \n",
            "[[27334     6]\n",
            " [ 2867    16]]\n"
          ]
        },
        {
          "output_type": "display_data",
          "data": {
            "image/png": "[encoded data removed]",
            "text/plain": [
              "<Figure size 432x288 with 2 Axes>"
            ]
          },
          "metadata": {
            "needs_background": "light"
          }
        }
      ]
    }
  ]
}